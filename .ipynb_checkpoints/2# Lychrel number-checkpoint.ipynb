{
 "cells": [
  {
   "cell_type": "markdown",
   "id": "9ad0ab45",
   "metadata": {},
   "source": [
    "## Lychrel number"
   ]
  },
  {
   "cell_type": "code",
   "execution_count": 189,
   "id": "78a90adf",
   "metadata": {},
   "outputs": [],
   "source": [
    "import math\n",
    "\n",
    "MAX_ITERATIONS = 70\n",
    "\n",
    "def isLychrel(number):\n",
    "    for i in range(MAX_ITERATIONS):\n",
    "        number = number + reverse(number)\n",
    "        digits = int(math.log10(number))+1\n",
    "        if (isPalindrome(number)):\n",
    "            return False;\n",
    "     \n",
    "    return True;\n",
    "\n",
    "def isPalindrome(number):\n",
    "  \n",
    "    return number == reverse(number)\n",
    "\n",
    "def reverse(number):\n",
    "  \n",
    "    reverse = 0;\n",
    "    while (number > 0):\n",
    "      \n",
    "        remainder = number % 10\n",
    "        reverse = (reverse * 10) + remainder\n",
    "        number = int(number / 10)\n",
    "     \n",
    "    return reverse;"
   ]
  },
  {
   "cell_type": "code",
   "execution_count": 190,
   "id": "445f40f2",
   "metadata": {},
   "outputs": [
    {
     "name": "stdout",
     "output_type": "stream",
     "text": [
      "[196, 295, 394, 493, 592, 689, 691, 788, 790, 879, 887, 978, 986]\n"
     ]
    }
   ],
   "source": [
    "lychrelNumbers_bellow1000 = []\n",
    "n = 1000\n",
    "for i in range(n):\n",
    "    if (isLychrel(i+1)):\n",
    "        lychrelNumbers_bellow1000.append(i+1)\n",
    "print(lychrelNumbers_bellow1000)"
   ]
  },
  {
   "cell_type": "code",
   "execution_count": 191,
   "id": "26d477a2",
   "metadata": {},
   "outputs": [
    {
     "name": "stdout",
     "output_type": "stream",
     "text": [
      "Кількість чисел Лішрел [0,80000]: 4689\n"
     ]
    }
   ],
   "source": [
    "lychrelNumbers = []\n",
    "n = 80000\n",
    "for i in range(n):\n",
    "    if (isLychrel(i+1)):\n",
    "        lychrelNumbers.append(i+1)\n",
    "print('Кількість чисел Лішрел [0,80000]:',len(lychrelNumbers))"
   ]
  },
  {
   "cell_type": "code",
   "execution_count": 192,
   "id": "22b3cea3",
   "metadata": {},
   "outputs": [
    {
     "data": {
      "image/png": "[encoded data removed]",
      "text/plain": [
       "<Figure size 432x288 with 1 Axes>"
      ]
     },
     "metadata": {
      "needs_background": "light"
     },
     "output_type": "display_data"
    }
   ],
   "source": [
    "import matplotlib.pyplot as plt\n",
    "import numpy as np\n",
    "\n",
    "x = lychrelNumbers\n",
    "\n",
    "plt.hist(x, density= False, bins=100)\n",
    "plt.xlabel('Data');\n",
    "plt.show() "
   ]
  },
  {
   "cell_type": "markdown",
   "id": "60d47c59",
   "metadata": {},
   "source": [
    "Для прикладу розглянемо діапазон [50k,80k]"
   ]
  },
  {
   "cell_type": "code",
   "execution_count": 193,
   "id": "d5284238",
   "metadata": {},
   "outputs": [
    {
     "data": {
      "image/png": "[encoded data removed]",
      "text/plain": [
       "<Figure size 432x288 with 1 Axes>"
      ]
     },
     "metadata": {
      "needs_background": "light"
     },
     "output_type": "display_data"
    }
   ],
   "source": [
    "lychrelNumbers = []\n",
    "for i in range(50000,80000):\n",
    "    if (isLychrel(i+1)):\n",
    "        lychrelNumbers.append(i+1)\n",
    "\n",
    "import matplotlib.pyplot as plt\n",
    "import numpy as np\n",
    "\n",
    "x = lychrelNumbers\n",
    "\n",
    "plt.hist(x, density= False, bins=30)\n",
    "plt.xlabel('Data');\n",
    "plt.show() "
   ]
  },
  {
   "cell_type": "markdown",
   "id": "11c71872",
   "metadata": {},
   "source": [
    "На гістограмі видно на прикладі діапазону [50000,60000] що числа скупчуються в II та IV четвертях. Така тенденція зберігається і на діапазонах: [60k,70k],[70k,80k]."
   ]
  },
  {
   "cell_type": "code",
   "execution_count": null,
   "id": "e3516287",
   "metadata": {},
   "outputs": [],
   "source": [
    "Числа Лішрел\n",
    "Найменше число-кандидат:196\n"
   ]
  }
 ],
 "metadata": {
  "kernelspec": {
   "display_name": "Python 3",
   "language": "python",
   "name": "python3"
  },
  "language_info": {
   "codemirror_mode": {
    "name": "ipython",
    "version": 3
   },
   "file_extension": ".py",
   "mimetype": "text/x-python",
   "name": "python",
   "nbconvert_exporter": "python",
   "pygments_lexer": "ipython3",
   "version": "3.8.8"
  }
 },
 "nbformat": 4,
 "nbformat_minor": 5
}
